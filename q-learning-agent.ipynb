{
 "cells": [
  {
   "cell_type": "markdown",
   "id": "59088bfa",
   "metadata": {
    "papermill": {
     "duration": 0.005191,
     "end_time": "2024-05-27T14:11:00.117125",
     "exception": false,
     "start_time": "2024-05-27T14:11:00.111934",
     "status": "completed"
    },
    "tags": []
   },
   "source": [
    "# OpenAI Gym and Python for Q-learning"
   ]
  },
  {
   "cell_type": "code",
   "execution_count": 1,
   "id": "14e6239a",
   "metadata": {
    "execution": {
     "iopub.execute_input": "2024-05-27T14:11:00.128354Z",
     "iopub.status.busy": "2024-05-27T14:11:00.127951Z",
     "iopub.status.idle": "2024-05-27T14:11:16.332009Z",
     "shell.execute_reply": "2024-05-27T14:11:16.330761Z"
    },
    "papermill": {
     "duration": 16.212643,
     "end_time": "2024-05-27T14:11:16.334892",
     "exception": false,
     "start_time": "2024-05-27T14:11:00.122249",
     "status": "completed"
    },
    "tags": []
   },
   "outputs": [
    {
     "name": "stdout",
     "output_type": "stream",
     "text": [
      "Requirement already satisfied: gym in /opt/conda/lib/python3.10/site-packages (0.26.2)\r\n",
      "Requirement already satisfied: numpy>=1.18.0 in /opt/conda/lib/python3.10/site-packages (from gym) (1.26.4)\r\n",
      "Requirement already satisfied: cloudpickle>=1.2.0 in /opt/conda/lib/python3.10/site-packages (from gym) (2.2.1)\r\n",
      "Requirement already satisfied: gym-notices>=0.0.4 in /opt/conda/lib/python3.10/site-packages (from gym) (0.0.8)\r\n"
     ]
    }
   ],
   "source": [
    "!pip install gym"
   ]
  },
  {
   "cell_type": "markdown",
   "id": "626b37c5",
   "metadata": {
    "papermill": {
     "duration": 0.004388,
     "end_time": "2024-05-27T14:11:16.343952",
     "exception": false,
     "start_time": "2024-05-27T14:11:16.339564",
     "status": "completed"
    },
    "tags": []
   },
   "source": [
    "# Notebook Imports"
   ]
  },
  {
   "cell_type": "code",
   "execution_count": 2,
   "id": "979e21fb",
   "metadata": {
    "execution": {
     "iopub.execute_input": "2024-05-27T14:11:16.355488Z",
     "iopub.status.busy": "2024-05-27T14:11:16.355012Z",
     "iopub.status.idle": "2024-05-27T14:11:16.988374Z",
     "shell.execute_reply": "2024-05-27T14:11:16.986767Z"
    },
    "papermill": {
     "duration": 0.643051,
     "end_time": "2024-05-27T14:11:16.991701",
     "exception": false,
     "start_time": "2024-05-27T14:11:16.348650",
     "status": "completed"
    },
    "tags": []
   },
   "outputs": [],
   "source": [
    "import numpy as np\n",
    "import gymnasium as gym\n",
    "import random\n",
    "import time\n",
    "from IPython.display import clear_output"
   ]
  },
  {
   "cell_type": "code",
   "execution_count": 3,
   "id": "1ddb4f75",
   "metadata": {
    "execution": {
     "iopub.execute_input": "2024-05-27T14:11:17.003323Z",
     "iopub.status.busy": "2024-05-27T14:11:17.002899Z",
     "iopub.status.idle": "2024-05-27T14:11:17.018146Z",
     "shell.execute_reply": "2024-05-27T14:11:17.016962Z"
    },
    "papermill": {
     "duration": 0.024814,
     "end_time": "2024-05-27T14:11:17.021274",
     "exception": false,
     "start_time": "2024-05-27T14:11:16.996460",
     "status": "completed"
    },
    "tags": []
   },
   "outputs": [],
   "source": [
    "env = gym.make('FrozenLake-v1')"
   ]
  },
  {
   "cell_type": "code",
   "execution_count": 4,
   "id": "0aa1bb3a",
   "metadata": {
    "execution": {
     "iopub.execute_input": "2024-05-27T14:11:17.032411Z",
     "iopub.status.busy": "2024-05-27T14:11:17.031929Z",
     "iopub.status.idle": "2024-05-27T14:11:17.039719Z",
     "shell.execute_reply": "2024-05-27T14:11:17.038583Z"
    },
    "papermill": {
     "duration": 0.01672,
     "end_time": "2024-05-27T14:11:17.042638",
     "exception": false,
     "start_time": "2024-05-27T14:11:17.025918",
     "status": "completed"
    },
    "tags": []
   },
   "outputs": [
    {
     "name": "stdout",
     "output_type": "stream",
     "text": [
      "[[0. 0. 0. 0.]\n",
      " [0. 0. 0. 0.]\n",
      " [0. 0. 0. 0.]\n",
      " [0. 0. 0. 0.]\n",
      " [0. 0. 0. 0.]\n",
      " [0. 0. 0. 0.]\n",
      " [0. 0. 0. 0.]\n",
      " [0. 0. 0. 0.]\n",
      " [0. 0. 0. 0.]\n",
      " [0. 0. 0. 0.]\n",
      " [0. 0. 0. 0.]\n",
      " [0. 0. 0. 0.]\n",
      " [0. 0. 0. 0.]\n",
      " [0. 0. 0. 0.]\n",
      " [0. 0. 0. 0.]\n",
      " [0. 0. 0. 0.]]\n"
     ]
    }
   ],
   "source": [
    "action_space_size = env.action_space.n\n",
    "state_space_size = env.observation_space.n\n",
    "\n",
    "q_table = np.zeros((state_space_size, action_space_size))\n",
    "print(q_table)"
   ]
  },
  {
   "cell_type": "markdown",
   "id": "ddf28b2d",
   "metadata": {
    "papermill": {
     "duration": 0.004372,
     "end_time": "2024-05-27T14:11:17.051842",
     "exception": false,
     "start_time": "2024-05-27T14:11:17.047470",
     "status": "completed"
    },
    "tags": []
   },
   "source": [
    "## Constants"
   ]
  },
  {
   "cell_type": "code",
   "execution_count": 5,
   "id": "1c59e5b3",
   "metadata": {
    "execution": {
     "iopub.execute_input": "2024-05-27T14:11:17.062790Z",
     "iopub.status.busy": "2024-05-27T14:11:17.062387Z",
     "iopub.status.idle": "2024-05-27T14:11:17.068864Z",
     "shell.execute_reply": "2024-05-27T14:11:17.067654Z"
    },
    "papermill": {
     "duration": 0.015113,
     "end_time": "2024-05-27T14:11:17.071561",
     "exception": false,
     "start_time": "2024-05-27T14:11:17.056448",
     "status": "completed"
    },
    "tags": []
   },
   "outputs": [],
   "source": [
    "num_episodes = 10000\n",
    "max_steps_per_episode = 100\n",
    "\n",
    "learning_rate = 0.1\n",
    "discount_rate = 0.99\n",
    "\n",
    "exploration_rate = 1\n",
    "max_exploration_rate = 1\n",
    "min_exploration_rate = 0.01\n",
    "exploration_decay_rate = 0.001    "
   ]
  },
  {
   "cell_type": "markdown",
   "id": "ec5ec9d4",
   "metadata": {
    "papermill": {
     "duration": 0.004749,
     "end_time": "2024-05-27T14:11:17.081347",
     "exception": false,
     "start_time": "2024-05-27T14:11:17.076598",
     "status": "completed"
    },
    "tags": []
   },
   "source": [
    "# Q-learning algorithm"
   ]
  },
  {
   "cell_type": "code",
   "execution_count": 6,
   "id": "d2ea8bec",
   "metadata": {
    "execution": {
     "iopub.execute_input": "2024-05-27T14:11:17.092490Z",
     "iopub.status.busy": "2024-05-27T14:11:17.092068Z",
     "iopub.status.idle": "2024-05-27T14:11:30.569241Z",
     "shell.execute_reply": "2024-05-27T14:11:30.568174Z"
    },
    "papermill": {
     "duration": 13.485849,
     "end_time": "2024-05-27T14:11:30.571936",
     "exception": false,
     "start_time": "2024-05-27T14:11:17.086087",
     "status": "completed"
    },
    "tags": []
   },
   "outputs": [
    {
     "name": "stdout",
     "output_type": "stream",
     "text": [
      "*****Average reward per Thousand*****\n",
      "\n",
      "1000: 0.047000000000000035\n",
      "2000: 0.19300000000000014\n",
      "3000: 0.4140000000000003\n",
      "4000: 0.5480000000000004\n",
      "5000: 0.6270000000000004\n",
      "6000: 0.6610000000000005\n",
      "7000: 0.6830000000000005\n",
      "8000: 0.6750000000000005\n",
      "9000: 0.6830000000000005\n",
      "10000: 0.6800000000000005\n",
      "\n",
      "\n",
      "*****Q-table*****\n",
      "\n",
      "[[0.48701172 0.48402856 0.48404465 0.48481016]\n",
      " [0.28790389 0.38058772 0.18101397 0.46619583]\n",
      " [0.41501799 0.40599876 0.41697895 0.44204726]\n",
      " [0.26024489 0.15837628 0.34196834 0.43581914]\n",
      " [0.49233502 0.47778461 0.46476748 0.32291719]\n",
      " [0.         0.         0.         0.        ]\n",
      " [0.17151328 0.10655058 0.27382629 0.06659406]\n",
      " [0.         0.         0.         0.        ]\n",
      " [0.51104664 0.38122017 0.3761096  0.5156652 ]\n",
      " [0.41159767 0.56698805 0.53333565 0.40248811]\n",
      " [0.4903133  0.36986523 0.30617283 0.19113229]\n",
      " [0.         0.         0.         0.        ]\n",
      " [0.         0.         0.         0.        ]\n",
      " [0.57272545 0.57667072 0.63999847 0.54842021]\n",
      " [0.74942169 0.86832638 0.73855928 0.72828655]\n",
      " [0.         0.         0.         0.        ]]\n"
     ]
    }
   ],
   "source": [
    "rewards_all_episodes = []\n",
    "\n",
    "# Q-learning Algorithm\n",
    "for episode in range(num_episodes):\n",
    "    state = env.reset()[0]\n",
    "    \n",
    "    done = False\n",
    "    rewards_current_episode = 0\n",
    "    \n",
    "    for step in range(max_steps_per_episode):\n",
    "        \n",
    "        # Exploration-exploitation trade-off\n",
    "        exploration_rate_threshold = random.uniform(0, 1)\n",
    "        if exploration_rate_threshold > exploration_rate:\n",
    "            action = np.argmax(q_table[state,:]) \n",
    "        else:\n",
    "            action = env.action_space.sample()\n",
    "            \n",
    "        new_state, reward, done, truncated, info = env.step(action)\n",
    "        \n",
    "        # Update Q-table for Q(s, a)\n",
    "        q_table[state, action] = q_table[state, action] * (1 - learning_rate) + \\\n",
    "            learning_rate * (reward + discount_rate * np.max(q_table[new_state, :])) \n",
    "        \n",
    "        state = new_state\n",
    "        rewards_current_episode += reward\n",
    "        \n",
    "        if done == True:\n",
    "            break\n",
    "            \n",
    "    # Exploration rate decay\n",
    "    exploration_rate = min_exploration_rate + (max_exploration_rate - min_exploration_rate) * np.exp(-exploration_decay_rate*episode)\n",
    "    \n",
    "    rewards_all_episodes.append(rewards_current_episode)\n",
    "    \n",
    "# Calculate the average reward per thousand episodes\n",
    "rewards_per_thousand_episodes = np.split(np.array(rewards_all_episodes), num_episodes/1000)\n",
    "count = 1000\n",
    "print('*****Average reward per Thousand*****\\n')\n",
    "\n",
    "for r in rewards_per_thousand_episodes:\n",
    "    print(f'{count}: {sum(r/1000)}')\n",
    "    count+=1000\n",
    "    \n",
    "# Print updated Q-table\n",
    "print('\\n\\n*****Q-table*****\\n')\n",
    "print(q_table)"
   ]
  },
  {
   "cell_type": "code",
   "execution_count": 7,
   "id": "893d39da",
   "metadata": {
    "execution": {
     "iopub.execute_input": "2024-05-27T14:11:30.583608Z",
     "iopub.status.busy": "2024-05-27T14:11:30.583221Z",
     "iopub.status.idle": "2024-05-27T14:12:17.034882Z",
     "shell.execute_reply": "2024-05-27T14:12:17.033764Z"
    },
    "papermill": {
     "duration": 46.46112,
     "end_time": "2024-05-27T14:12:17.038006",
     "exception": false,
     "start_time": "2024-05-27T14:11:30.576886",
     "status": "completed"
    },
    "tags": []
   },
   "outputs": [
    {
     "name": "stdout",
     "output_type": "stream",
     "text": [
      "****You reached the goal!!!*****\n"
     ]
    }
   ],
   "source": [
    "for episode in range(3):\n",
    "    state = env.reset()[0]\n",
    "    done = False\n",
    "    print(f'*****EPISODE: {episode+1} *****\\n\\n\\n\\n')\n",
    "    time.sleep(1)\n",
    "    \n",
    "    for step in range(max_steps_per_episode):\n",
    "        clear_output(wait=True)\n",
    "        env.render()\n",
    "        time.sleep(0.3)\n",
    "        \n",
    "        action = np.argmax(q_table[state, :])\n",
    "        new_state, reward, done, truncated, info = env.step(action)\n",
    "        \n",
    "        if done:\n",
    "            clear_output(wait=True)\n",
    "            env.render()\n",
    "            \n",
    "            if reward == 1:\n",
    "                print('****You reached the goal!!!*****')\n",
    "                time.sleep(3)\n",
    "                \n",
    "            else:\n",
    "                print('****You fell through a hole!****')\n",
    "                time.sleep(3)\n",
    "            clear_output(wait=True)\n",
    "            break\n",
    "            \n",
    "        state = new_state\n",
    "        \n",
    "env.close()"
   ]
  }
 ],
 "metadata": {
  "kaggle": {
   "accelerator": "none",
   "dataSources": [],
   "dockerImageVersionId": 30698,
   "isGpuEnabled": false,
   "isInternetEnabled": true,
   "language": "python",
   "sourceType": "notebook"
  },
  "kernelspec": {
   "display_name": "Python 3",
   "language": "python",
   "name": "python3"
  },
  "language_info": {
   "codemirror_mode": {
    "name": "ipython",
    "version": 3
   },
   "file_extension": ".py",
   "mimetype": "text/x-python",
   "name": "python",
   "nbconvert_exporter": "python",
   "pygments_lexer": "ipython3",
   "version": "3.10.13"
  },
  "papermill": {
   "default_parameters": {},
   "duration": 80.424989,
   "end_time": "2024-05-27T14:12:17.464938",
   "environment_variables": {},
   "exception": null,
   "input_path": "__notebook__.ipynb",
   "output_path": "__notebook__.ipynb",
   "parameters": {},
   "start_time": "2024-05-27T14:10:57.039949",
   "version": "2.5.0"
  }
 },
 "nbformat": 4,
 "nbformat_minor": 5
}
